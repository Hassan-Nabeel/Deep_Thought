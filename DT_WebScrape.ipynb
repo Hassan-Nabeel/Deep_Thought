{
 "cells": [
  {
   "cell_type": "code",
   "execution_count": 1,
   "id": "42906e56-e943-42be-b2d1-19ed26f71beb",
   "metadata": {},
   "outputs": [],
   "source": [
    "import pandas as pd\n",
    "import requests\n",
    "from bs4 import BeautifulSoup\n",
    "from selenium import webdriver"
   ]
  },
  {
   "cell_type": "code",
   "execution_count": 2,
   "id": "f4aff647-5b50-4934-b327-fe0a71dc784e",
   "metadata": {},
   "outputs": [
    {
     "data": {
      "text/html": [
       "<div>\n",
       "<style scoped>\n",
       "    .dataframe tbody tr th:only-of-type {\n",
       "        vertical-align: middle;\n",
       "    }\n",
       "\n",
       "    .dataframe tbody tr th {\n",
       "        vertical-align: top;\n",
       "    }\n",
       "\n",
       "    .dataframe thead th {\n",
       "        text-align: right;\n",
       "    }\n",
       "</style>\n",
       "<table border=\"1\" class=\"dataframe\">\n",
       "  <thead>\n",
       "    <tr style=\"text-align: right;\">\n",
       "      <th></th>\n",
       "      <th>url</th>\n",
       "    </tr>\n",
       "  </thead>\n",
       "  <tbody>\n",
       "    <tr>\n",
       "      <th>0</th>\n",
       "      <td>https://en.wikipedia.org/wiki/Yakult_Honsha</td>\n",
       "    </tr>\n",
       "    <tr>\n",
       "      <th>1</th>\n",
       "      <td>https://en.wikipedia.org/wiki/Danone</td>\n",
       "    </tr>\n",
       "    <tr>\n",
       "      <th>2</th>\n",
       "      <td>https://en.wikipedia.org/wiki/Pfizer</td>\n",
       "    </tr>\n",
       "  </tbody>\n",
       "</table>\n",
       "</div>"
      ],
      "text/plain": [
       "                                           url\n",
       "0  https://en.wikipedia.org/wiki/Yakult_Honsha\n",
       "1         https://en.wikipedia.org/wiki/Danone\n",
       "2         https://en.wikipedia.org/wiki/Pfizer"
      ]
     },
     "execution_count": 2,
     "metadata": {},
     "output_type": "execute_result"
    }
   ],
   "source": [
    "df = pd.read_csv(\"Book2.csv\")\n",
    "df"
   ]
  },
  {
   "cell_type": "code",
   "execution_count": 3,
   "id": "6470e2f9-5155-4798-b4eb-a725a9822394",
   "metadata": {},
   "outputs": [],
   "source": [
    "# browser = webdriver.Chrome()"
   ]
  },
  {
   "cell_type": "markdown",
   "id": "0b52f574-143f-4c47-bc64-13d93bf27a93",
   "metadata": {},
   "source": [
    "## Scraping from only three website"
   ]
  },
  {
   "cell_type": "code",
   "execution_count": 21,
   "id": "681eb1d9-0c97-4698-9528-c915bcbfbaa3",
   "metadata": {},
   "outputs": [],
   "source": [
    "data = []\n",
    "\n",
    "for link in (df['url']):\n",
    "    \n",
    "    res =  requests.get(link)\n",
    "    soup = BeautifulSoup(res.text, 'html.parser')\n",
    "    # # print(soup.text)\n",
    "    Companys_Name   = soup.find('span', class_= \"mw-page-title-main\").text\n",
    "    Company_Type    = soup.find_all('td', class_=\"infobox-data category\")[0].text\n",
    "    Industry        = soup.find_all('td', class_=\"infobox-data category\")[1].text\n",
    "    Founded         = soup.find('span', class_=\"bday dtstart published updated\").text\n",
    "    Headquarter     = soup.find('td', class_=\"infobox-data label\").text\n",
    "    Website         = soup.find('span', class_=\"url\").text\n",
    "\n",
    "    data.append([Companys_Name, Company_Type, Industry, Founded, Headquarter, Website])\n",
    "\n",
    "    # break"
   ]
  },
  {
   "cell_type": "code",
   "execution_count": 22,
   "id": "faf26ca3-cd7c-4449-a426-10bbc300de9b",
   "metadata": {},
   "outputs": [
    {
     "data": {
      "text/plain": [
       "[['Yakult Honsha',\n",
       "  'Public KK',\n",
       "  'Probiotic Drinks',\n",
       "  '1955-01-29',\n",
       "  'Minato-ku, Tokyo, Japan',\n",
       "  'www.yakult.co.jp'],\n",
       " ['Danone',\n",
       "  'Société anonyme',\n",
       "  'Food processing',\n",
       "  '1966',\n",
       "  'Boulevard Haussmann 9th arrondissement, Paris, France (Operational)Hoofddorp, Netherlands (Global)[1]',\n",
       "  'danone.com'],\n",
       " ['Pfizer',\n",
       "  'Public',\n",
       "  'PharmaceuticalBiotechnology',\n",
       "  '1849',\n",
       "  'The Spiral, New York City, U.S.',\n",
       "  'pfizer.com']]"
      ]
     },
     "execution_count": 22,
     "metadata": {},
     "output_type": "execute_result"
    }
   ],
   "source": [
    "data"
   ]
  },
  {
   "cell_type": "code",
   "execution_count": 23,
   "id": "d06645bc-b814-47ff-b8c9-7203904d31fa",
   "metadata": {},
   "outputs": [
    {
     "data": {
      "text/html": [
       "<div>\n",
       "<style scoped>\n",
       "    .dataframe tbody tr th:only-of-type {\n",
       "        vertical-align: middle;\n",
       "    }\n",
       "\n",
       "    .dataframe tbody tr th {\n",
       "        vertical-align: top;\n",
       "    }\n",
       "\n",
       "    .dataframe thead th {\n",
       "        text-align: right;\n",
       "    }\n",
       "</style>\n",
       "<table border=\"1\" class=\"dataframe\">\n",
       "  <thead>\n",
       "    <tr style=\"text-align: right;\">\n",
       "      <th></th>\n",
       "      <th>Companys_Name</th>\n",
       "      <th>Company_Type</th>\n",
       "      <th>Industry</th>\n",
       "      <th>Founded</th>\n",
       "      <th>Headquarter</th>\n",
       "      <th>Website</th>\n",
       "    </tr>\n",
       "  </thead>\n",
       "  <tbody>\n",
       "    <tr>\n",
       "      <th>0</th>\n",
       "      <td>Yakult Honsha</td>\n",
       "      <td>Public KK</td>\n",
       "      <td>Probiotic Drinks</td>\n",
       "      <td>1955-01-29</td>\n",
       "      <td>Minato-ku, Tokyo, Japan</td>\n",
       "      <td>www.yakult.co.jp</td>\n",
       "    </tr>\n",
       "    <tr>\n",
       "      <th>1</th>\n",
       "      <td>Danone</td>\n",
       "      <td>Société anonyme</td>\n",
       "      <td>Food processing</td>\n",
       "      <td>1966</td>\n",
       "      <td>Boulevard Haussmann 9th arrondissement, Paris,...</td>\n",
       "      <td>danone.com</td>\n",
       "    </tr>\n",
       "    <tr>\n",
       "      <th>2</th>\n",
       "      <td>Pfizer</td>\n",
       "      <td>Public</td>\n",
       "      <td>PharmaceuticalBiotechnology</td>\n",
       "      <td>1849</td>\n",
       "      <td>The Spiral, New York City, U.S.</td>\n",
       "      <td>pfizer.com</td>\n",
       "    </tr>\n",
       "  </tbody>\n",
       "</table>\n",
       "</div>"
      ],
      "text/plain": [
       "   Companys_Name     Company_Type                     Industry     Founded  \\\n",
       "0  Yakult Honsha        Public KK             Probiotic Drinks  1955-01-29   \n",
       "1         Danone  Société anonyme              Food processing        1966   \n",
       "2         Pfizer           Public  PharmaceuticalBiotechnology        1849   \n",
       "\n",
       "                                         Headquarter           Website  \n",
       "0                            Minato-ku, Tokyo, Japan  www.yakult.co.jp  \n",
       "1  Boulevard Haussmann 9th arrondissement, Paris,...        danone.com  \n",
       "2                    The Spiral, New York City, U.S.        pfizer.com  "
      ]
     },
     "execution_count": 23,
     "metadata": {},
     "output_type": "execute_result"
    }
   ],
   "source": [
    "df2 = pd.DataFrame(data, columns=['Companys_Name','Company_Type','Industry', 'Founded', 'Headquarter', 'Website'])\n",
    "df2"
   ]
  },
  {
   "cell_type": "code",
   "execution_count": null,
   "id": "ea9e57c9-0fa3-439d-a311-e39b7e42ee3f",
   "metadata": {},
   "outputs": [],
   "source": []
  }
 ],
 "metadata": {
  "kernelspec": {
   "display_name": "Python 3 (ipykernel)",
   "language": "python",
   "name": "python3"
  },
  "language_info": {
   "codemirror_mode": {
    "name": "ipython",
    "version": 3
   },
   "file_extension": ".py",
   "mimetype": "text/x-python",
   "name": "python",
   "nbconvert_exporter": "python",
   "pygments_lexer": "ipython3",
   "version": "3.12.4"
  }
 },
 "nbformat": 4,
 "nbformat_minor": 5
}
